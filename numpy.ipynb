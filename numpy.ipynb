{
  "nbformat": 4,
  "nbformat_minor": 0,
  "metadata": {
    "colab": {
      "name": "numpy.ipynb",
      "provenance": [],
      "authorship_tag": "ABX9TyOVwravDNmSwUogWP1WRonc",
      "include_colab_link": true
    },
    "kernelspec": {
      "name": "python3",
      "display_name": "Python 3"
    }
  },
  "cells": [
    {
      "cell_type": "markdown",
      "metadata": {
        "id": "view-in-github",
        "colab_type": "text"
      },
      "source": [
        "<a href=\"https://colab.research.google.com/github/thanhlamnguyen/AeThongMinh/blob/master/numpy.ipynb\" target=\"_parent\"><img src=\"https://colab.research.google.com/assets/colab-badge.svg\" alt=\"Open In Colab\"/></a>"
      ]
    },
    {
      "cell_type": "markdown",
      "metadata": {
        "id": "P1cKoSwZTtla"
      },
      "source": [
        "1. Khai báo thư viện Numpy"
      ]
    },
    {
      "cell_type": "code",
      "metadata": {
        "id": "ToRugfgnTwtI"
      },
      "source": [
        "import numpy as np"
      ],
      "execution_count": null,
      "outputs": []
    },
    {
      "cell_type": "markdown",
      "metadata": {
        "id": "96wzodKATzyw"
      },
      "source": [
        "2. Khởi tạo vecto/ma trận"
      ]
    },
    {
      "cell_type": "code",
      "metadata": {
        "colab": {
          "base_uri": "https://localhost:8080/"
        },
        "id": "31bYEOeXT49H",
        "outputId": "fa0c8c21-d9e1-48af-f088-f47220f57cdb"
      },
      "source": [
        "x = [[1,2,3], [4,5,6]]\r\n",
        "print ('a =',np.array(x))"
      ],
      "execution_count": 7,
      "outputs": [
        {
          "output_type": "stream",
          "text": [
            "a = [[1 2 3]\n",
            " [4 5 6]]\n"
          ],
          "name": "stdout"
        }
      ]
    },
    {
      "cell_type": "markdown",
      "metadata": {
        "id": "62s5wT8UUGJg"
      },
      "source": [
        "3. Tỉnh tổng, trừ, tích 2 ma trận"
      ]
    },
    {
      "cell_type": "code",
      "metadata": {
        "colab": {
          "base_uri": "https://localhost:8080/"
        },
        "id": "-h3rralVULUJ",
        "outputId": "3de310e7-8733-446b-b6ed-09222fcf6cb5"
      },
      "source": [
        "import numpy as np\r\n",
        "x = [((1,2),(3,4)), ((4,5),(6,7))]\r\n",
        "y = [((6,7),(8,9)), ((9,10),(11,12))]\r\n",
        "a = np.array(x)\r\n",
        "b = np.array(y)\r\n",
        "print ('a+b =',a + b)\r\n",
        "print ('a-b =',a - b)\r\n",
        "print ('a*b =',a.dot(b))"
      ],
      "execution_count": 8,
      "outputs": [
        {
          "output_type": "stream",
          "text": [
            "a+b = [[[ 7  9]\n",
            "  [11 13]]\n",
            "\n",
            " [[13 15]\n",
            "  [17 19]]]\n",
            "a-b = [[[-5 -5]\n",
            "  [-5 -5]]\n",
            "\n",
            " [[-5 -5]\n",
            "  [-5 -5]]]\n",
            "a*b = [[[[ 22  25]\n",
            "   [ 31  34]]\n",
            "\n",
            "  [[ 50  57]\n",
            "   [ 71  78]]]\n",
            "\n",
            "\n",
            " [[[ 64  73]\n",
            "   [ 91 100]]\n",
            "\n",
            "  [[ 92 105]\n",
            "   [131 144]]]]\n"
          ],
          "name": "stdout"
        }
      ]
    },
    {
      "cell_type": "markdown",
      "metadata": {
        "id": "_x-Tw2Q2UUhp"
      },
      "source": [
        "4. Tính chuyển vị"
      ]
    },
    {
      "cell_type": "code",
      "metadata": {
        "colab": {
          "base_uri": "https://localhost:8080/"
        },
        "id": "-lKqNyCpUXzA",
        "outputId": "8de88e04-b915-466b-a9a4-b9aebc36b9c1"
      },
      "source": [
        "x = [[1,2,3], [4,5,6]]\r\n",
        "y = np.transpose(x)\r\n",
        "print ('ma trận của x',x)\r\n",
        "print ('ma trận chuyển vị của x',y)"
      ],
      "execution_count": 9,
      "outputs": [
        {
          "output_type": "stream",
          "text": [
            "ma trận của x [[1, 2, 3], [4, 5, 6]]\n",
            "ma trận chuyển vị của x [[1 4]\n",
            " [2 5]\n",
            " [3 6]]\n"
          ],
          "name": "stdout"
        }
      ]
    },
    {
      "cell_type": "markdown",
      "metadata": {
        "id": "P0g_vSfFUdKw"
      },
      "source": [
        ""
      ]
    }
  ]
}